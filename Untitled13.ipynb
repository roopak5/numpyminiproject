{
  "nbformat": 4,
  "nbformat_minor": 0,
  "metadata": {
    "colab": {
      "name": "Untitled13.ipynb",
      "provenance": [],
      "authorship_tag": "ABX9TyM0LPFf8PRKaZyEmSFZHzUq",
      "include_colab_link": true
    },
    "kernelspec": {
      "name": "python3",
      "display_name": "Python 3"
    },
    "language_info": {
      "name": "python"
    }
  },
  "cells": [
    {
      "cell_type": "markdown",
      "metadata": {
        "id": "view-in-github",
        "colab_type": "text"
      },
      "source": [
        "<a href=\"https://colab.research.google.com/github/roopak5/numpyminiproject/blob/main/Untitled13.ipynb\" target=\"_parent\"><img src=\"https://colab.research.google.com/assets/colab-badge.svg\" alt=\"Open In Colab\"/></a>"
      ]
    },
    {
      "cell_type": "code",
      "execution_count": 268,
      "metadata": {
        "colab": {
          "base_uri": "https://localhost:8080/",
          "height": 205
        },
        "id": "iVRzV2qvd7Fd",
        "outputId": "50906791-2572-4f58-a25f-b63be17e7b01"
      },
      "outputs": [
        {
          "output_type": "error",
          "ename": "TypeError",
          "evalue": "ignored",
          "traceback": [
            "\u001b[0;31m---------------------------------------------------------------------------\u001b[0m",
            "\u001b[0;31mTypeError\u001b[0m                                 Traceback (most recent call last)",
            "\u001b[0;32m<ipython-input-268-7ffb0d4a943a>\u001b[0m in \u001b[0;36m<module>\u001b[0;34m()\u001b[0m\n\u001b[1;32m      3\u001b[0m \u001b[0;34m\u001b[0m\u001b[0m\n\u001b[1;32m      4\u001b[0m \u001b[0marr\u001b[0m \u001b[0;34m=\u001b[0m \u001b[0mnp\u001b[0m\u001b[0;34m.\u001b[0m\u001b[0marray\u001b[0m\u001b[0;34m(\u001b[0m\u001b[0mone\u001b[0m\u001b[0;34m)\u001b[0m\u001b[0;34m\u001b[0m\u001b[0;34m\u001b[0m\u001b[0m\n\u001b[0;32m----> 5\u001b[0;31m \u001b[0mprint\u001b[0m\u001b[0;34m(\u001b[0m\u001b[0mone\u001b[0m \u001b[0;34m+\u001b[0m\u001b[0;36m11\u001b[0m\u001b[0;34m)\u001b[0m\u001b[0;34m\u001b[0m\u001b[0;34m\u001b[0m\u001b[0m\n\u001b[0m",
            "\u001b[0;31mTypeError\u001b[0m: can only concatenate list (not \"int\") to list"
          ]
        }
      ],
      "source": [
        "one = [10,200,60,0]\n",
        "import numpy as np\n",
        "\n",
        "arr = np.array(one)\n",
        "print(one +11)"
      ]
    },
    {
      "cell_type": "code",
      "source": [
        "one = [22,45,78,50,45]\n",
        "import sys\n",
        "arr = np.array(one)\n",
        "print(arr.nbytes) # size of array\n",
        "print(sys.getsizeof(one)) # size of list\n",
        "# array can be multi dimensional"
      ],
      "metadata": {
        "colab": {
          "base_uri": "https://localhost:8080/"
        },
        "id": "nTsYWdCSf9Vv",
        "outputId": "dd5ee299-b130-46b2-9653-599cff93ab79"
      },
      "execution_count": 269,
      "outputs": [
        {
          "output_type": "stream",
          "name": "stdout",
          "text": [
            "40\n",
            "112\n"
          ]
        }
      ]
    },
    {
      "cell_type": "code",
      "source": [
        "a = np.array([6,2,3,4])\n",
        "b = np.array([[1,2,3,4,1,], [5,6,7,8]])\n",
        "print(b.itemsize)\n",
        "print('----')\n",
        "print(a.itemsize)"
      ],
      "metadata": {
        "colab": {
          "base_uri": "https://localhost:8080/"
        },
        "id": "f8lMoO9qg5dr",
        "outputId": "b427fe92-d7a6-45e0-d747-78a709f33533"
      },
      "execution_count": 270,
      "outputs": [
        {
          "output_type": "stream",
          "name": "stdout",
          "text": [
            "8\n",
            "----\n",
            "8\n"
          ]
        },
        {
          "output_type": "stream",
          "name": "stderr",
          "text": [
            "/usr/local/lib/python3.7/dist-packages/ipykernel_launcher.py:2: VisibleDeprecationWarning: Creating an ndarray from ragged nested sequences (which is a list-or-tuple of lists-or-tuples-or ndarrays with different lengths or shapes) is deprecated. If you meant to do this, you must specify 'dtype=object' when creating the ndarray.\n",
            "  \n"
          ]
        }
      ]
    },
    {
      "cell_type": "code",
      "source": [
        "#print(np.array([5,6,8,45,9,4]).reshape(3,2)) \n",
        "# 2 rows 3 columns(row *colmn)\n",
        "print(np.matrix([[1,2],[3,4]]))\n",
        "print(np.eye((4)))\n",
        "print(np.zeros((4,3)))\n",
        "print(np.ones((4,3), dtype =np.float64))\n",
        "print(np.ones((4,3)))\n",
        "\n",
        "#eye matrix is always sqrt matrix... row n colmns"
      ],
      "metadata": {
        "colab": {
          "base_uri": "https://localhost:8080/"
        },
        "id": "yH8wOtVIlT5x",
        "outputId": "4ae844ef-b7ae-4906-d8ba-6506b3884a05"
      },
      "execution_count": 271,
      "outputs": [
        {
          "output_type": "stream",
          "name": "stdout",
          "text": [
            "[[1 2]\n",
            " [3 4]]\n",
            "[[1. 0. 0. 0.]\n",
            " [0. 1. 0. 0.]\n",
            " [0. 0. 1. 0.]\n",
            " [0. 0. 0. 1.]]\n",
            "[[0. 0. 0.]\n",
            " [0. 0. 0.]\n",
            " [0. 0. 0.]\n",
            " [0. 0. 0.]]\n",
            "[[1. 1. 1.]\n",
            " [1. 1. 1.]\n",
            " [1. 1. 1.]\n",
            " [1. 1. 1.]]\n",
            "[[1. 1. 1.]\n",
            " [1. 1. 1.]\n",
            " [1. 1. 1.]\n",
            " [1. 1. 1.]]\n"
          ]
        }
      ]
    },
    {
      "cell_type": "code",
      "source": [
        "a =(np.array([[1,2,3],[4,5,6],[7,8,9]]))"
      ],
      "metadata": {
        "id": "C8FCxFagoZXt"
      },
      "execution_count": 272,
      "outputs": []
    },
    {
      "cell_type": "code",
      "source": [
        "print(a[:1,:3]) #row n colmn"
      ],
      "metadata": {
        "colab": {
          "base_uri": "https://localhost:8080/"
        },
        "id": "f9PS7jLeohBe",
        "outputId": "d10c5c6a-c99c-4ee6-9800-e7c4bad4b748"
      },
      "execution_count": 273,
      "outputs": [
        {
          "output_type": "stream",
          "name": "stdout",
          "text": [
            "[[1 2 3]]\n"
          ]
        }
      ]
    },
    {
      "cell_type": "code",
      "source": [
        "a = np.array([[1,2],[3,4],[5,6]])\n",
        "print(a[[0,1,2],[0,1,0]]) #rows , colmns\n",
        "print('------')\n",
        "print(np.array([a[0,0],a[1,1],a[1,0]]))"
      ],
      "metadata": {
        "colab": {
          "base_uri": "https://localhost:8080/"
        },
        "id": "-7heXuHoquHw",
        "outputId": "46028417-5606-4b73-e780-151a2ddaa337"
      },
      "execution_count": 274,
      "outputs": [
        {
          "output_type": "stream",
          "name": "stdout",
          "text": [
            "[1 4 5]\n",
            "------\n",
            "[1 4 3]\n"
          ]
        }
      ]
    },
    {
      "cell_type": "code",
      "source": [
        "#boolean is true /false\n",
        "a = np.array([[4,7,1],[2,5,7],[7,1,1]])\n",
        "\n",
        "# Boolean condition for values greater than 3\n",
        "mask = a == 3\n",
        "print(a[mask])\n"
      ],
      "metadata": {
        "colab": {
          "base_uri": "https://localhost:8080/"
        },
        "id": "iM00LcyLsDKy",
        "outputId": "f5bc4bba-d5ab-4c09-9b23-ae9c55cc578a"
      },
      "execution_count": 275,
      "outputs": [
        {
          "output_type": "stream",
          "name": "stdout",
          "text": [
            "[]\n"
          ]
        }
      ]
    },
    {
      "cell_type": "code",
      "source": [
        "a = np.array([[1,2,3],[4,5,6],[7,8,9]])\n",
        "b = np.array([[10,11,12],[13,14,15],[16,17,18]])\n",
        "#print(a+b)\n",
        "print(np.add(a,b))\n",
        "print(b.min())\n"
      ],
      "metadata": {
        "colab": {
          "base_uri": "https://localhost:8080/"
        },
        "id": "ZSlq9aQLsqmt",
        "outputId": "e57f3948-eb6f-46b0-d174-b6ab260e9764"
      },
      "execution_count": 276,
      "outputs": [
        {
          "output_type": "stream",
          "name": "stdout",
          "text": [
            "[[11 13 15]\n",
            " [17 19 21]\n",
            " [23 25 27]]\n",
            "10\n"
          ]
        }
      ]
    },
    {
      "cell_type": "code",
      "source": [
        "c =  np.array([1,-4,4])\n",
        "r = np.roots(c)\n",
        "print(r)"
      ],
      "metadata": {
        "colab": {
          "base_uri": "https://localhost:8080/"
        },
        "id": "8cNHtT0VuNba",
        "outputId": "03cbd22c-8955-466f-ff1e-7cd536eadc95"
      },
      "execution_count": 277,
      "outputs": [
        {
          "output_type": "stream",
          "name": "stdout",
          "text": [
            "[2. 2.]\n"
          ]
        }
      ]
    },
    {
      "cell_type": "code",
      "source": [
        "# 2 dimen = 2 axis\n",
        "# 3 dimen = 3 axis n so on \n",
        "# axis = 0 colmn axis = 1 rows"
      ],
      "metadata": {
        "id": "QIU6Eaa-ulg3"
      },
      "execution_count": 278,
      "outputs": []
    },
    {
      "cell_type": "code",
      "source": [
        "profit = max_price_day2-min_price_day1\n",
        "print(profit)"
      ],
      "metadata": {
        "colab": {
          "base_uri": "https://localhost:8080/"
        },
        "id": "eRIFS7T1wRF0",
        "outputId": "e08b5006-7f48-4898-acc8-ee7b4614f2c9"
      },
      "execution_count": 279,
      "outputs": [
        {
          "output_type": "stream",
          "name": "stdout",
          "text": [
            "50\n"
          ]
        }
      ]
    },
    {
      "cell_type": "code",
      "source": [
        ""
      ],
      "metadata": {
        "id": "T60AOZdsawlT"
      },
      "execution_count": 279,
      "outputs": []
    },
    {
      "cell_type": "code",
      "source": [
        "index = np.where(prices==max_price_day2)\n",
        "print(index)"
      ],
      "metadata": {
        "colab": {
          "base_uri": "https://localhost:8080/"
        },
        "id": "aelyn-_XyywR",
        "outputId": "fcb4caf1-6a06-4820-ba73-7a9aa54c644d"
      },
      "execution_count": 280,
      "outputs": [
        {
          "output_type": "stream",
          "name": "stdout",
          "text": [
            "(array([1]), array([2]))\n"
          ]
        }
      ]
    },
    {
      "cell_type": "code",
      "source": [
        "a = np.array([5,6,7,8])\n",
        "b = np.array([5,6,7,6])\n",
        "print(np.array_equal(a,b))"
      ],
      "metadata": {
        "colab": {
          "base_uri": "https://localhost:8080/"
        },
        "id": "BbIJjX_hJuYN",
        "outputId": "41a3c584-eb19-44d2-86be-09c5e36576a2"
      },
      "execution_count": 281,
      "outputs": [
        {
          "output_type": "stream",
          "name": "stdout",
          "text": [
            "False\n"
          ]
        }
      ]
    },
    {
      "cell_type": "code",
      "source": [
        "a = np.array([[1,1],[5,2]])\n",
        "\n",
        "# computes sum over 1 = rows, 0 = columns\n",
        "print(a.sum(axis=0))\n",
        "print('==========')\n",
        "print(a.sum())"
      ],
      "metadata": {
        "colab": {
          "base_uri": "https://localhost:8080/"
        },
        "id": "o9r7_88qLNtt",
        "outputId": "2de858a6-18ff-4ffd-fcc7-f7ebf9fc4eb6"
      },
      "execution_count": 282,
      "outputs": [
        {
          "output_type": "stream",
          "name": "stdout",
          "text": [
            "[6 3]\n",
            "==========\n",
            "9\n"
          ]
        }
      ]
    },
    {
      "cell_type": "code",
      "source": [
        " np.array([1, 2, 3]) + 4"
      ],
      "metadata": {
        "colab": {
          "base_uri": "https://localhost:8080/"
        },
        "id": "y23mX-SyNwm-",
        "outputId": "40697e6b-97ff-40dd-dcf8-1aa46219364c"
      },
      "execution_count": 283,
      "outputs": [
        {
          "output_type": "execute_result",
          "data": {
            "text/plain": [
              "array([5, 6, 7])"
            ]
          },
          "metadata": {},
          "execution_count": 283
        }
      ]
    },
    {
      "cell_type": "code",
      "source": [
        "np.arange(5)"
      ],
      "metadata": {
        "colab": {
          "base_uri": "https://localhost:8080/"
        },
        "id": "gJkSXoe9OmA7",
        "outputId": "3db513e4-c227-4978-b4ed-1f9372ef80bb"
      },
      "execution_count": 284,
      "outputs": [
        {
          "output_type": "execute_result",
          "data": {
            "text/plain": [
              "array([0, 1, 2, 3, 4])"
            ]
          },
          "metadata": {},
          "execution_count": 284
        }
      ]
    },
    {
      "cell_type": "code",
      "source": [
        "np.arange(5).reshape(5,1)+np.arange(4)"
      ],
      "metadata": {
        "colab": {
          "base_uri": "https://localhost:8080/"
        },
        "id": "ANzyB1JOSVOK",
        "outputId": "dc536623-bee9-4a12-970b-5cb6830834b2"
      },
      "execution_count": 285,
      "outputs": [
        {
          "output_type": "execute_result",
          "data": {
            "text/plain": [
              "array([[0, 1, 2, 3],\n",
              "       [1, 2, 3, 4],\n",
              "       [2, 3, 4, 5],\n",
              "       [3, 4, 5, 6],\n",
              "       [4, 5, 6, 7]])"
            ]
          },
          "metadata": {},
          "execution_count": 285
        }
      ]
    },
    {
      "cell_type": "code",
      "source": [
        "mv = np.random.random((5,5))"
      ],
      "metadata": {
        "id": "9W3Ub-XkWl7m"
      },
      "execution_count": 286,
      "outputs": []
    },
    {
      "cell_type": "code",
      "source": [
        "z_norm = mv.max() - mv.min()\n",
        "print(z_norm)"
      ],
      "metadata": {
        "colab": {
          "base_uri": "https://localhost:8080/"
        },
        "id": "zfPrblniX-qf",
        "outputId": "63e92409-a584-48cd-fde8-934dde7cf1fd"
      },
      "execution_count": 287,
      "outputs": [
        {
          "output_type": "stream",
          "name": "stdout",
          "text": [
            "0.9748745234039584\n"
          ]
        }
      ]
    },
    {
      "cell_type": "code",
      "source": [
        "mv = mv- mv.min()"
      ],
      "metadata": {
        "id": "Db2fUj35ehsg"
      },
      "execution_count": 288,
      "outputs": []
    },
    {
      "cell_type": "code",
      "source": [
        "mv"
      ],
      "metadata": {
        "colab": {
          "base_uri": "https://localhost:8080/"
        },
        "id": "APcbII5IemXd",
        "outputId": "435083c1-bc0b-4196-864a-c6c297dd7969"
      },
      "execution_count": 289,
      "outputs": [
        {
          "output_type": "execute_result",
          "data": {
            "text/plain": [
              "array([[0.4067788 , 0.0166482 , 0.33531031, 0.90882458, 0.16732891],\n",
              "       [0.39923086, 0.38722946, 0.05750604, 0.16876883, 0.47683762],\n",
              "       [0.07594735, 0.40444762, 0.21173134, 0.1103166 , 0.3643429 ],\n",
              "       [0.5505513 , 0.60204819, 0.72025133, 0.65054451, 0.3064783 ],\n",
              "       [0.05862101, 0.97487452, 0.        , 0.7197155 , 0.49933836]])"
            ]
          },
          "metadata": {},
          "execution_count": 289
        }
      ]
    },
    {
      "cell_type": "code",
      "source": [
        "sa = z_norm / mv\n",
        "print(sa)"
      ],
      "metadata": {
        "colab": {
          "base_uri": "https://localhost:8080/"
        },
        "id": "DQjydGscenT8",
        "outputId": "d8ecaf42-5824-4100-a0d8-b4e8ccee5733"
      },
      "execution_count": 290,
      "outputs": [
        {
          "output_type": "stream",
          "name": "stdout",
          "text": [
            "[[ 2.3965716  58.5573536   2.90738012  1.07267622  5.82609726]\n",
            " [ 2.44188167  2.5175629  16.95255925  5.77638974  2.04445806]\n",
            " [12.83618921  2.4103851   4.6042997   8.83706119  2.6757061 ]\n",
            " [ 1.77072423  1.61926327  1.35351991  1.4985516   3.18089249]\n",
            " [16.6301208   1.                 inf  1.35452763  1.95233254]]\n"
          ]
        },
        {
          "output_type": "stream",
          "name": "stderr",
          "text": [
            "/usr/local/lib/python3.7/dist-packages/ipykernel_launcher.py:1: RuntimeWarning: divide by zero encountered in true_divide\n",
            "  \"\"\"Entry point for launching an IPython kernel.\n"
          ]
        }
      ]
    },
    {
      "cell_type": "code",
      "source": [
        "#Mini Project\n",
        "# upload csv file\n",
        "data_file = 'makeSenseOfCensus.csv'\n",
        "data = np.genfromtxt(data_file, delimiter=\",\", skip_header=1)"
      ],
      "metadata": {
        "id": "wQBlEakffO04"
      },
      "execution_count": 291,
      "outputs": []
    },
    {
      "cell_type": "code",
      "source": [
        "data"
      ],
      "metadata": {
        "colab": {
          "base_uri": "https://localhost:8080/"
        },
        "id": "uDIJs0KFiAph",
        "outputId": "dfbf31cb-a972-4aae-9731-86d59644f22a"
      },
      "execution_count": 292,
      "outputs": [
        {
          "output_type": "execute_result",
          "data": {
            "text/plain": [
              "array([[39., 13.,  4., ...,  0., 40.,  0.],\n",
              "       [50., 13.,  4., ...,  0., 13.,  0.],\n",
              "       [38.,  9.,  4., ...,  0., 40.,  0.],\n",
              "       ...,\n",
              "       [48., 13.,  4., ...,  0., 58.,  1.],\n",
              "       [40., 10.,  4., ...,  0., 40.,  0.],\n",
              "       [39., 13.,  4., ...,  0., 50.,  1.]])"
            ]
          },
          "metadata": {},
          "execution_count": 292
        }
      ]
    },
    {
      "cell_type": "code",
      "source": [
        "# numpy in Pandas\n",
        "import pandas as pd\n",
        "df = pd.read_csv('/content/makeSenseOfCensus.csv')\n",
        "df"
      ],
      "metadata": {
        "colab": {
          "base_uri": "https://localhost:8080/",
          "height": 423
        },
        "id": "3bQmAzoVs9XF",
        "outputId": "1242d130-88bd-4d0a-95db-7fd8c227f46c"
      },
      "execution_count": 338,
      "outputs": [
        {
          "output_type": "execute_result",
          "data": {
            "text/html": [
              "\n",
              "  <div id=\"df-f08ddee7-f09f-4bf8-8782-fb84199ea9f2\">\n",
              "    <div class=\"colab-df-container\">\n",
              "      <div>\n",
              "<style scoped>\n",
              "    .dataframe tbody tr th:only-of-type {\n",
              "        vertical-align: middle;\n",
              "    }\n",
              "\n",
              "    .dataframe tbody tr th {\n",
              "        vertical-align: top;\n",
              "    }\n",
              "\n",
              "    .dataframe thead th {\n",
              "        text-align: right;\n",
              "    }\n",
              "</style>\n",
              "<table border=\"1\" class=\"dataframe\">\n",
              "  <thead>\n",
              "    <tr style=\"text-align: right;\">\n",
              "      <th></th>\n",
              "      <th>age</th>\n",
              "      <th>education-num</th>\n",
              "      <th>race</th>\n",
              "      <th>sex</th>\n",
              "      <th>capital-gain</th>\n",
              "      <th>capital-loss</th>\n",
              "      <th>hours-per-week</th>\n",
              "      <th>income</th>\n",
              "    </tr>\n",
              "  </thead>\n",
              "  <tbody>\n",
              "    <tr>\n",
              "      <th>0</th>\n",
              "      <td>39</td>\n",
              "      <td>13</td>\n",
              "      <td>4</td>\n",
              "      <td>1</td>\n",
              "      <td>2174</td>\n",
              "      <td>0</td>\n",
              "      <td>40</td>\n",
              "      <td>0</td>\n",
              "    </tr>\n",
              "    <tr>\n",
              "      <th>1</th>\n",
              "      <td>50</td>\n",
              "      <td>13</td>\n",
              "      <td>4</td>\n",
              "      <td>1</td>\n",
              "      <td>0</td>\n",
              "      <td>0</td>\n",
              "      <td>13</td>\n",
              "      <td>0</td>\n",
              "    </tr>\n",
              "    <tr>\n",
              "      <th>2</th>\n",
              "      <td>38</td>\n",
              "      <td>9</td>\n",
              "      <td>4</td>\n",
              "      <td>1</td>\n",
              "      <td>0</td>\n",
              "      <td>0</td>\n",
              "      <td>40</td>\n",
              "      <td>0</td>\n",
              "    </tr>\n",
              "    <tr>\n",
              "      <th>3</th>\n",
              "      <td>53</td>\n",
              "      <td>7</td>\n",
              "      <td>2</td>\n",
              "      <td>1</td>\n",
              "      <td>0</td>\n",
              "      <td>0</td>\n",
              "      <td>40</td>\n",
              "      <td>0</td>\n",
              "    </tr>\n",
              "    <tr>\n",
              "      <th>4</th>\n",
              "      <td>28</td>\n",
              "      <td>13</td>\n",
              "      <td>2</td>\n",
              "      <td>0</td>\n",
              "      <td>0</td>\n",
              "      <td>0</td>\n",
              "      <td>40</td>\n",
              "      <td>0</td>\n",
              "    </tr>\n",
              "    <tr>\n",
              "      <th>...</th>\n",
              "      <td>...</td>\n",
              "      <td>...</td>\n",
              "      <td>...</td>\n",
              "      <td>...</td>\n",
              "      <td>...</td>\n",
              "      <td>...</td>\n",
              "      <td>...</td>\n",
              "      <td>...</td>\n",
              "    </tr>\n",
              "    <tr>\n",
              "      <th>995</th>\n",
              "      <td>56</td>\n",
              "      <td>9</td>\n",
              "      <td>4</td>\n",
              "      <td>1</td>\n",
              "      <td>0</td>\n",
              "      <td>0</td>\n",
              "      <td>55</td>\n",
              "      <td>1</td>\n",
              "    </tr>\n",
              "    <tr>\n",
              "      <th>996</th>\n",
              "      <td>45</td>\n",
              "      <td>14</td>\n",
              "      <td>4</td>\n",
              "      <td>1</td>\n",
              "      <td>0</td>\n",
              "      <td>0</td>\n",
              "      <td>45</td>\n",
              "      <td>0</td>\n",
              "    </tr>\n",
              "    <tr>\n",
              "      <th>997</th>\n",
              "      <td>48</td>\n",
              "      <td>13</td>\n",
              "      <td>4</td>\n",
              "      <td>1</td>\n",
              "      <td>0</td>\n",
              "      <td>0</td>\n",
              "      <td>58</td>\n",
              "      <td>1</td>\n",
              "    </tr>\n",
              "    <tr>\n",
              "      <th>998</th>\n",
              "      <td>40</td>\n",
              "      <td>10</td>\n",
              "      <td>4</td>\n",
              "      <td>1</td>\n",
              "      <td>2580</td>\n",
              "      <td>0</td>\n",
              "      <td>40</td>\n",
              "      <td>0</td>\n",
              "    </tr>\n",
              "    <tr>\n",
              "      <th>999</th>\n",
              "      <td>39</td>\n",
              "      <td>13</td>\n",
              "      <td>4</td>\n",
              "      <td>1</td>\n",
              "      <td>15024</td>\n",
              "      <td>0</td>\n",
              "      <td>50</td>\n",
              "      <td>1</td>\n",
              "    </tr>\n",
              "  </tbody>\n",
              "</table>\n",
              "<p>1000 rows × 8 columns</p>\n",
              "</div>\n",
              "      <button class=\"colab-df-convert\" onclick=\"convertToInteractive('df-f08ddee7-f09f-4bf8-8782-fb84199ea9f2')\"\n",
              "              title=\"Convert this dataframe to an interactive table.\"\n",
              "              style=\"display:none;\">\n",
              "        \n",
              "  <svg xmlns=\"http://www.w3.org/2000/svg\" height=\"24px\"viewBox=\"0 0 24 24\"\n",
              "       width=\"24px\">\n",
              "    <path d=\"M0 0h24v24H0V0z\" fill=\"none\"/>\n",
              "    <path d=\"M18.56 5.44l.94 2.06.94-2.06 2.06-.94-2.06-.94-.94-2.06-.94 2.06-2.06.94zm-11 1L8.5 8.5l.94-2.06 2.06-.94-2.06-.94L8.5 2.5l-.94 2.06-2.06.94zm10 10l.94 2.06.94-2.06 2.06-.94-2.06-.94-.94-2.06-.94 2.06-2.06.94z\"/><path d=\"M17.41 7.96l-1.37-1.37c-.4-.4-.92-.59-1.43-.59-.52 0-1.04.2-1.43.59L10.3 9.45l-7.72 7.72c-.78.78-.78 2.05 0 2.83L4 21.41c.39.39.9.59 1.41.59.51 0 1.02-.2 1.41-.59l7.78-7.78 2.81-2.81c.8-.78.8-2.07 0-2.86zM5.41 20L4 18.59l7.72-7.72 1.47 1.35L5.41 20z\"/>\n",
              "  </svg>\n",
              "      </button>\n",
              "      \n",
              "  <style>\n",
              "    .colab-df-container {\n",
              "      display:flex;\n",
              "      flex-wrap:wrap;\n",
              "      gap: 12px;\n",
              "    }\n",
              "\n",
              "    .colab-df-convert {\n",
              "      background-color: #E8F0FE;\n",
              "      border: none;\n",
              "      border-radius: 50%;\n",
              "      cursor: pointer;\n",
              "      display: none;\n",
              "      fill: #1967D2;\n",
              "      height: 32px;\n",
              "      padding: 0 0 0 0;\n",
              "      width: 32px;\n",
              "    }\n",
              "\n",
              "    .colab-df-convert:hover {\n",
              "      background-color: #E2EBFA;\n",
              "      box-shadow: 0px 1px 2px rgba(60, 64, 67, 0.3), 0px 1px 3px 1px rgba(60, 64, 67, 0.15);\n",
              "      fill: #174EA6;\n",
              "    }\n",
              "\n",
              "    [theme=dark] .colab-df-convert {\n",
              "      background-color: #3B4455;\n",
              "      fill: #D2E3FC;\n",
              "    }\n",
              "\n",
              "    [theme=dark] .colab-df-convert:hover {\n",
              "      background-color: #434B5C;\n",
              "      box-shadow: 0px 1px 3px 1px rgba(0, 0, 0, 0.15);\n",
              "      filter: drop-shadow(0px 1px 2px rgba(0, 0, 0, 0.3));\n",
              "      fill: #FFFFFF;\n",
              "    }\n",
              "  </style>\n",
              "\n",
              "      <script>\n",
              "        const buttonEl =\n",
              "          document.querySelector('#df-f08ddee7-f09f-4bf8-8782-fb84199ea9f2 button.colab-df-convert');\n",
              "        buttonEl.style.display =\n",
              "          google.colab.kernel.accessAllowed ? 'block' : 'none';\n",
              "\n",
              "        async function convertToInteractive(key) {\n",
              "          const element = document.querySelector('#df-f08ddee7-f09f-4bf8-8782-fb84199ea9f2');\n",
              "          const dataTable =\n",
              "            await google.colab.kernel.invokeFunction('convertToInteractive',\n",
              "                                                     [key], {});\n",
              "          if (!dataTable) return;\n",
              "\n",
              "          const docLinkHtml = 'Like what you see? Visit the ' +\n",
              "            '<a target=\"_blank\" href=https://colab.research.google.com/notebooks/data_table.ipynb>data table notebook</a>'\n",
              "            + ' to learn more about interactive tables.';\n",
              "          element.innerHTML = '';\n",
              "          dataTable['output_type'] = 'display_data';\n",
              "          await google.colab.output.renderOutput(dataTable, element);\n",
              "          const docLink = document.createElement('div');\n",
              "          docLink.innerHTML = docLinkHtml;\n",
              "          element.appendChild(docLink);\n",
              "        }\n",
              "      </script>\n",
              "    </div>\n",
              "  </div>\n",
              "  "
            ],
            "text/plain": [
              "     age  education-num  race  sex  capital-gain  capital-loss  \\\n",
              "0     39             13     4    1          2174             0   \n",
              "1     50             13     4    1             0             0   \n",
              "2     38              9     4    1             0             0   \n",
              "3     53              7     2    1             0             0   \n",
              "4     28             13     2    0             0             0   \n",
              "..   ...            ...   ...  ...           ...           ...   \n",
              "995   56              9     4    1             0             0   \n",
              "996   45             14     4    1             0             0   \n",
              "997   48             13     4    1             0             0   \n",
              "998   40             10     4    1          2580             0   \n",
              "999   39             13     4    1         15024             0   \n",
              "\n",
              "     hours-per-week  income  \n",
              "0                40       0  \n",
              "1                13       0  \n",
              "2                40       0  \n",
              "3                40       0  \n",
              "4                40       0  \n",
              "..              ...     ...  \n",
              "995              55       1  \n",
              "996              45       0  \n",
              "997              58       1  \n",
              "998              40       0  \n",
              "999              50       1  \n",
              "\n",
              "[1000 rows x 8 columns]"
            ]
          },
          "metadata": {},
          "execution_count": 338
        }
      ]
    },
    {
      "cell_type": "code",
      "source": [
        "new_record=[[50,9,4,1,0,0,40,0]]\n",
        "data = np.concatenate((data,new_record),axis=0)\n",
        "data"
      ],
      "metadata": {
        "colab": {
          "base_uri": "https://localhost:8080/"
        },
        "id": "m5sOzWC-iXzg",
        "outputId": "a74036cc-29bd-49d7-d311-c5744ae9dcfa"
      },
      "execution_count": 293,
      "outputs": [
        {
          "output_type": "execute_result",
          "data": {
            "text/plain": [
              "array([[39., 13.,  4., ...,  0., 40.,  0.],\n",
              "       [50., 13.,  4., ...,  0., 13.,  0.],\n",
              "       [38.,  9.,  4., ...,  0., 40.,  0.],\n",
              "       ...,\n",
              "       [40., 10.,  4., ...,  0., 40.,  0.],\n",
              "       [39., 13.,  4., ...,  0., 50.,  1.],\n",
              "       [50.,  9.,  4., ...,  0., 40.,  0.]])"
            ]
          },
          "metadata": {},
          "execution_count": 293
        }
      ]
    },
    {
      "cell_type": "code",
      "source": [
        "age = data[:,0]\n",
        "age"
      ],
      "metadata": {
        "colab": {
          "base_uri": "https://localhost:8080/"
        },
        "id": "tIXqRjvtkFcC",
        "outputId": "728ef992-b647-4841-d4fc-7121f66a57d9"
      },
      "execution_count": 294,
      "outputs": [
        {
          "output_type": "execute_result",
          "data": {
            "text/plain": [
              "array([39., 50., 38., ..., 40., 39., 50.])"
            ]
          },
          "metadata": {},
          "execution_count": 294
        }
      ]
    },
    {
      "cell_type": "code",
      "source": [
        "max_age = age.max()\n",
        "max_age\n"
      ],
      "metadata": {
        "colab": {
          "base_uri": "https://localhost:8080/"
        },
        "id": "Xi6aVJErkmYB",
        "outputId": "33e54d83-ee55-4a49-8362-c83f98237a1d"
      },
      "execution_count": 298,
      "outputs": [
        {
          "output_type": "execute_result",
          "data": {
            "text/plain": [
              "90.0"
            ]
          },
          "metadata": {},
          "execution_count": 298
        }
      ]
    },
    {
      "cell_type": "code",
      "source": [
        "min_age = age.min()\n",
        "min_age"
      ],
      "metadata": {
        "colab": {
          "base_uri": "https://localhost:8080/"
        },
        "id": "sjWrDSHxk3Tg",
        "outputId": "64dbc2da-a744-4d1b-a2fe-b3cb83928e20"
      },
      "execution_count": 299,
      "outputs": [
        {
          "output_type": "execute_result",
          "data": {
            "text/plain": [
              "17.0"
            ]
          },
          "metadata": {},
          "execution_count": 299
        }
      ]
    },
    {
      "cell_type": "code",
      "source": [
        "age_mean = age.mean()\n",
        "age_mean"
      ],
      "metadata": {
        "colab": {
          "base_uri": "https://localhost:8080/"
        },
        "id": "V-Ghdkxsk4uv",
        "outputId": "9f4fe891-1afb-479e-f25b-a737d6a718f9"
      },
      "execution_count": 301,
      "outputs": [
        {
          "output_type": "execute_result",
          "data": {
            "text/plain": [
              "38.06293706293706"
            ]
          },
          "metadata": {},
          "execution_count": 301
        }
      ]
    },
    {
      "cell_type": "code",
      "source": [
        "age_std = np.std(age)\n",
        "age_std"
      ],
      "metadata": {
        "colab": {
          "base_uri": "https://localhost:8080/"
        },
        "id": "Se0q86eplPTJ",
        "outputId": "84ea41a0-b0f3-45e7-f3a0-1d353f72ae71"
      },
      "execution_count": 302,
      "outputs": [
        {
          "output_type": "execute_result",
          "data": {
            "text/plain": [
              "13.341478176165857"
            ]
          },
          "metadata": {},
          "execution_count": 302
        }
      ]
    },
    {
      "cell_type": "code",
      "source": [
        "race = data[:,2]\n",
        "race"
      ],
      "metadata": {
        "colab": {
          "base_uri": "https://localhost:8080/"
        },
        "id": "9BRbWrBWlmvo",
        "outputId": "b0ce9bc7-2b72-4c04-d8d1-55a3b1cae7ee"
      },
      "execution_count": 304,
      "outputs": [
        {
          "output_type": "execute_result",
          "data": {
            "text/plain": [
              "array([4., 4., 4., ..., 4., 4., 4.])"
            ]
          },
          "metadata": {},
          "execution_count": 304
        }
      ]
    },
    {
      "cell_type": "code",
      "source": [
        "race.shape"
      ],
      "metadata": {
        "colab": {
          "base_uri": "https://localhost:8080/"
        },
        "id": "KztVdghlmDGn",
        "outputId": "39198538-418a-4d21-fff8-b20c09ecc0cf"
      },
      "execution_count": 305,
      "outputs": [
        {
          "output_type": "execute_result",
          "data": {
            "text/plain": [
              "(1001,)"
            ]
          },
          "metadata": {},
          "execution_count": 305
        }
      ]
    },
    {
      "cell_type": "code",
      "source": [
        "race_zero= data[race==0]\n",
        "race_zero"
      ],
      "metadata": {
        "colab": {
          "base_uri": "https://localhost:8080/"
        },
        "id": "q32UZ_v5mNM_",
        "outputId": "932e8302-09c3-4920-f23f-1a82d05d4073"
      },
      "execution_count": 309,
      "outputs": [
        {
          "output_type": "execute_result",
          "data": {
            "text/plain": [
              "array([[34.,  4.,  0.,  1.,  0.,  0., 45.,  0.],\n",
              "       [35., 10.,  0.,  0.,  0.,  0., 40.,  0.],\n",
              "       [60.,  6.,  0.,  0.,  0.,  0., 10.,  0.],\n",
              "       [51.,  9.,  0.,  1.,  0.,  0., 40.,  0.],\n",
              "       [25., 10.,  0.,  0.,  0.,  0., 20.,  0.],\n",
              "       [20.,  9.,  0.,  1.,  0.,  0., 48.,  0.],\n",
              "       [23., 10.,  0.,  0.,  0.,  0., 25.,  0.],\n",
              "       [29.,  9.,  0.,  1.,  0.,  0., 40.,  0.],\n",
              "       [27., 12.,  0.,  1.,  0.,  0., 40.,  0.],\n",
              "       [31., 12.,  0.,  0.,  0.,  0., 40.,  0.]])"
            ]
          },
          "metadata": {},
          "execution_count": 309
        }
      ]
    },
    {
      "cell_type": "code",
      "source": [
        "race_1=data[race==1]\n",
        "race_1"
      ],
      "metadata": {
        "colab": {
          "base_uri": "https://localhost:8080/"
        },
        "id": "MjZVIEhQm60v",
        "outputId": "d99df493-022a-4847-b802-6e6a032a39c6"
      },
      "execution_count": 314,
      "outputs": [
        {
          "output_type": "execute_result",
          "data": {
            "text/plain": [
              "array([[3.000e+01, 1.300e+01, 1.000e+00, 1.000e+00, 0.000e+00, 0.000e+00,\n",
              "        4.000e+01, 1.000e+00],\n",
              "       [4.000e+01, 1.100e+01, 1.000e+00, 1.000e+00, 0.000e+00, 0.000e+00,\n",
              "        4.000e+01, 1.000e+00],\n",
              "       [5.400e+01, 1.000e+01, 1.000e+00, 1.000e+00, 0.000e+00, 0.000e+00,\n",
              "        6.000e+01, 1.000e+00],\n",
              "       [3.000e+01, 9.000e+00, 1.000e+00, 0.000e+00, 0.000e+00, 1.573e+03,\n",
              "        3.500e+01, 0.000e+00],\n",
              "       [4.900e+01, 1.000e+01, 1.000e+00, 1.000e+00, 0.000e+00, 0.000e+00,\n",
              "        4.000e+01, 1.000e+00],\n",
              "       [3.300e+01, 1.300e+01, 1.000e+00, 0.000e+00, 0.000e+00, 0.000e+00,\n",
              "        4.000e+01, 0.000e+00],\n",
              "       [4.400e+01, 1.400e+01, 1.000e+00, 0.000e+00, 0.000e+00, 0.000e+00,\n",
              "        4.000e+01, 0.000e+00],\n",
              "       [2.800e+01, 9.000e+00, 1.000e+00, 0.000e+00, 0.000e+00, 0.000e+00,\n",
              "        4.000e+01, 0.000e+00],\n",
              "       [6.000e+01, 9.000e+00, 1.000e+00, 1.000e+00, 0.000e+00, 0.000e+00,\n",
              "        4.000e+01, 0.000e+00],\n",
              "       [4.200e+01, 9.000e+00, 1.000e+00, 1.000e+00, 0.000e+00, 0.000e+00,\n",
              "        4.000e+01, 1.000e+00],\n",
              "       [3.700e+01, 1.000e+01, 1.000e+00, 1.000e+00, 0.000e+00, 0.000e+00,\n",
              "        7.500e+01, 1.000e+00],\n",
              "       [3.900e+01, 1.400e+01, 1.000e+00, 0.000e+00, 3.464e+03, 0.000e+00,\n",
              "        4.000e+01, 0.000e+00],\n",
              "       [2.100e+01, 1.000e+01, 1.000e+00, 0.000e+00, 0.000e+00, 0.000e+00,\n",
              "        2.500e+01, 0.000e+00],\n",
              "       [2.400e+01, 1.000e+01, 1.000e+00, 0.000e+00, 0.000e+00, 0.000e+00,\n",
              "        4.000e+01, 0.000e+00],\n",
              "       [3.400e+01, 1.400e+01, 1.000e+00, 1.000e+00, 7.298e+03, 0.000e+00,\n",
              "        3.500e+01, 1.000e+00],\n",
              "       [2.700e+01, 1.000e+01, 1.000e+00, 1.000e+00, 0.000e+00, 1.980e+03,\n",
              "        4.000e+01, 0.000e+00],\n",
              "       [4.000e+01, 1.100e+01, 1.000e+00, 1.000e+00, 0.000e+00, 0.000e+00,\n",
              "        4.000e+01, 1.000e+00],\n",
              "       [5.500e+01, 9.000e+00, 1.000e+00, 0.000e+00, 0.000e+00, 0.000e+00,\n",
              "        4.000e+01, 0.000e+00],\n",
              "       [3.500e+01, 1.600e+01, 1.000e+00, 1.000e+00, 0.000e+00, 0.000e+00,\n",
              "        4.000e+01, 1.000e+00],\n",
              "       [2.900e+01, 1.000e+01, 1.000e+00, 0.000e+00, 0.000e+00, 0.000e+00,\n",
              "        4.000e+01, 0.000e+00],\n",
              "       [2.000e+01, 7.000e+00, 1.000e+00, 0.000e+00, 0.000e+00, 1.762e+03,\n",
              "        4.000e+01, 0.000e+00],\n",
              "       [5.500e+01, 1.000e+01, 1.000e+00, 0.000e+00, 0.000e+00, 0.000e+00,\n",
              "        4.000e+01, 0.000e+00],\n",
              "       [5.100e+01, 1.300e+01, 1.000e+00, 1.000e+00, 0.000e+00, 2.415e+03,\n",
              "        4.000e+01, 1.000e+00],\n",
              "       [2.800e+01, 1.100e+01, 1.000e+00, 0.000e+00, 0.000e+00, 0.000e+00,\n",
              "        4.000e+01, 0.000e+00],\n",
              "       [4.300e+01, 1.400e+01, 1.000e+00, 0.000e+00, 0.000e+00, 0.000e+00,\n",
              "        5.000e+01, 0.000e+00],\n",
              "       [6.700e+01, 9.000e+00, 1.000e+00, 1.000e+00, 0.000e+00, 0.000e+00,\n",
              "        4.000e+01, 1.000e+00],\n",
              "       [4.800e+01, 1.300e+01, 1.000e+00, 1.000e+00, 0.000e+00, 0.000e+00,\n",
              "        4.000e+01, 1.000e+00]])"
            ]
          },
          "metadata": {},
          "execution_count": 314
        }
      ]
    },
    {
      "cell_type": "code",
      "source": [
        "race_2=data[race==2]\n",
        "race_2"
      ],
      "metadata": {
        "colab": {
          "base_uri": "https://localhost:8080/"
        },
        "id": "FKneyVsdnTsu",
        "outputId": "d34c9de8-cbbe-4ab3-848d-bd7527364186"
      },
      "execution_count": 315,
      "outputs": [
        {
          "output_type": "execute_result",
          "data": {
            "text/plain": [
              "array([[5.300e+01, 7.000e+00, 2.000e+00, 1.000e+00, 0.000e+00, 0.000e+00,\n",
              "        4.000e+01, 0.000e+00],\n",
              "       [2.800e+01, 1.300e+01, 2.000e+00, 0.000e+00, 0.000e+00, 0.000e+00,\n",
              "        4.000e+01, 0.000e+00],\n",
              "       [4.900e+01, 5.000e+00, 2.000e+00, 0.000e+00, 0.000e+00, 0.000e+00,\n",
              "        1.600e+01, 0.000e+00],\n",
              "       [3.700e+01, 1.000e+01, 2.000e+00, 1.000e+00, 0.000e+00, 0.000e+00,\n",
              "        8.000e+01, 1.000e+00],\n",
              "       [3.200e+01, 1.200e+01, 2.000e+00, 1.000e+00, 0.000e+00, 0.000e+00,\n",
              "        5.000e+01, 0.000e+00],\n",
              "       [5.400e+01, 9.000e+00, 2.000e+00, 0.000e+00, 0.000e+00, 0.000e+00,\n",
              "        2.000e+01, 0.000e+00],\n",
              "       [3.500e+01, 5.000e+00, 2.000e+00, 1.000e+00, 0.000e+00, 0.000e+00,\n",
              "        4.000e+01, 0.000e+00],\n",
              "       [2.000e+01, 1.000e+01, 2.000e+00, 1.000e+00, 0.000e+00, 0.000e+00,\n",
              "        4.400e+01, 0.000e+00],\n",
              "       [2.200e+01, 1.000e+01, 2.000e+00, 1.000e+00, 0.000e+00, 0.000e+00,\n",
              "        1.500e+01, 0.000e+00],\n",
              "       [5.700e+01, 1.300e+01, 2.000e+00, 1.000e+00, 0.000e+00, 0.000e+00,\n",
              "        4.000e+01, 1.000e+00],\n",
              "       [3.100e+01, 1.300e+01, 2.000e+00, 0.000e+00, 0.000e+00, 0.000e+00,\n",
              "        4.000e+01, 0.000e+00],\n",
              "       [2.800e+01, 1.000e+01, 2.000e+00, 0.000e+00, 0.000e+00, 0.000e+00,\n",
              "        2.500e+01, 0.000e+00],\n",
              "       [3.200e+01, 9.000e+00, 2.000e+00, 1.000e+00, 0.000e+00, 0.000e+00,\n",
              "        4.000e+01, 0.000e+00],\n",
              "       [4.900e+01, 1.100e+01, 2.000e+00, 1.000e+00, 0.000e+00, 0.000e+00,\n",
              "        4.000e+01, 1.000e+00],\n",
              "       [3.000e+01, 1.300e+01, 2.000e+00, 1.000e+00, 0.000e+00, 0.000e+00,\n",
              "        4.000e+01, 0.000e+00],\n",
              "       [1.900e+01, 1.000e+01, 2.000e+00, 1.000e+00, 0.000e+00, 0.000e+00,\n",
              "        3.500e+01, 0.000e+00],\n",
              "       [4.600e+01, 1.200e+01, 2.000e+00, 0.000e+00, 0.000e+00, 0.000e+00,\n",
              "        3.600e+01, 0.000e+00],\n",
              "       [3.100e+01, 9.000e+00, 2.000e+00, 0.000e+00, 0.000e+00, 0.000e+00,\n",
              "        3.000e+01, 0.000e+00],\n",
              "       [7.100e+01, 1.000e+01, 2.000e+00, 1.000e+00, 0.000e+00, 1.816e+03,\n",
              "        2.000e+00, 0.000e+00],\n",
              "       [4.200e+01, 1.300e+01, 2.000e+00, 1.000e+00, 0.000e+00, 0.000e+00,\n",
              "        5.000e+01, 0.000e+00],\n",
              "       [2.100e+01, 9.000e+00, 2.000e+00, 1.000e+00, 0.000e+00, 0.000e+00,\n",
              "        4.000e+01, 0.000e+00],\n",
              "       [3.400e+01, 9.000e+00, 2.000e+00, 1.000e+00, 0.000e+00, 0.000e+00,\n",
              "        4.000e+01, 0.000e+00],\n",
              "       [4.400e+01, 1.000e+01, 2.000e+00, 1.000e+00, 0.000e+00, 0.000e+00,\n",
              "        3.800e+01, 1.000e+00],\n",
              "       [3.000e+01, 1.000e+01, 2.000e+00, 1.000e+00, 0.000e+00, 0.000e+00,\n",
              "        4.500e+01, 0.000e+00],\n",
              "       [3.400e+01, 9.000e+00, 2.000e+00, 1.000e+00, 0.000e+00, 0.000e+00,\n",
              "        4.000e+01, 0.000e+00],\n",
              "       [3.800e+01, 1.000e+01, 2.000e+00, 0.000e+00, 0.000e+00, 0.000e+00,\n",
              "        2.800e+01, 0.000e+00],\n",
              "       [4.100e+01, 1.300e+01, 2.000e+00, 1.000e+00, 0.000e+00, 0.000e+00,\n",
              "        4.000e+01, 0.000e+00],\n",
              "       [3.600e+01, 1.300e+01, 2.000e+00, 1.000e+00, 7.298e+03, 0.000e+00,\n",
              "        3.600e+01, 1.000e+00],\n",
              "       [4.400e+01, 9.000e+00, 2.000e+00, 1.000e+00, 0.000e+00, 0.000e+00,\n",
              "        4.000e+01, 0.000e+00],\n",
              "       [3.700e+01, 1.300e+01, 2.000e+00, 1.000e+00, 0.000e+00, 0.000e+00,\n",
              "        6.000e+01, 1.000e+00],\n",
              "       [9.000e+01, 9.000e+00, 2.000e+00, 1.000e+00, 0.000e+00, 2.206e+03,\n",
              "        4.000e+01, 0.000e+00],\n",
              "       [5.400e+01, 9.000e+00, 2.000e+00, 1.000e+00, 0.000e+00, 0.000e+00,\n",
              "        2.000e+01, 0.000e+00],\n",
              "       [3.500e+01, 7.000e+00, 2.000e+00, 1.000e+00, 3.674e+03, 0.000e+00,\n",
              "        4.000e+01, 0.000e+00],\n",
              "       [4.100e+01, 9.000e+00, 2.000e+00, 0.000e+00, 0.000e+00, 0.000e+00,\n",
              "        3.800e+01, 0.000e+00],\n",
              "       [4.200e+01, 1.300e+01, 2.000e+00, 0.000e+00, 0.000e+00, 0.000e+00,\n",
              "        4.000e+01, 0.000e+00],\n",
              "       [5.900e+01, 6.000e+00, 2.000e+00, 0.000e+00, 0.000e+00, 0.000e+00,\n",
              "        3.000e+01, 0.000e+00],\n",
              "       [4.300e+01, 9.000e+00, 2.000e+00, 1.000e+00, 0.000e+00, 0.000e+00,\n",
              "        4.000e+01, 0.000e+00],\n",
              "       [3.400e+01, 1.200e+01, 2.000e+00, 0.000e+00, 0.000e+00, 0.000e+00,\n",
              "        4.500e+01, 0.000e+00],\n",
              "       [2.700e+01, 1.300e+01, 2.000e+00, 0.000e+00, 0.000e+00, 0.000e+00,\n",
              "        4.000e+01, 0.000e+00],\n",
              "       [1.900e+01, 1.000e+01, 2.000e+00, 0.000e+00, 0.000e+00, 0.000e+00,\n",
              "        2.500e+01, 0.000e+00],\n",
              "       [3.600e+01, 1.300e+01, 2.000e+00, 0.000e+00, 0.000e+00, 0.000e+00,\n",
              "        4.000e+01, 1.000e+00],\n",
              "       [2.300e+01, 1.100e+01, 2.000e+00, 0.000e+00, 0.000e+00, 0.000e+00,\n",
              "        1.500e+01, 0.000e+00],\n",
              "       [4.100e+01, 1.000e+01, 2.000e+00, 1.000e+00, 0.000e+00, 0.000e+00,\n",
              "        4.500e+01, 0.000e+00],\n",
              "       [1.900e+01, 9.000e+00, 2.000e+00, 1.000e+00, 0.000e+00, 0.000e+00,\n",
              "        3.000e+01, 0.000e+00],\n",
              "       [4.500e+01, 9.000e+00, 2.000e+00, 1.000e+00, 0.000e+00, 0.000e+00,\n",
              "        4.000e+01, 0.000e+00],\n",
              "       [2.200e+01, 1.000e+01, 2.000e+00, 0.000e+00, 0.000e+00, 0.000e+00,\n",
              "        4.000e+01, 0.000e+00],\n",
              "       [4.500e+01, 9.000e+00, 2.000e+00, 1.000e+00, 0.000e+00, 0.000e+00,\n",
              "        4.000e+01, 0.000e+00],\n",
              "       [4.400e+01, 9.000e+00, 2.000e+00, 1.000e+00, 0.000e+00, 0.000e+00,\n",
              "        4.000e+01, 0.000e+00],\n",
              "       [4.100e+01, 1.000e+01, 2.000e+00, 0.000e+00, 0.000e+00, 0.000e+00,\n",
              "        2.400e+01, 0.000e+00],\n",
              "       [2.400e+01, 9.000e+00, 2.000e+00, 0.000e+00, 0.000e+00, 0.000e+00,\n",
              "        4.000e+01, 0.000e+00],\n",
              "       [3.400e+01, 7.000e+00, 2.000e+00, 1.000e+00, 0.000e+00, 0.000e+00,\n",
              "        4.000e+01, 0.000e+00],\n",
              "       [3.400e+01, 9.000e+00, 2.000e+00, 1.000e+00, 5.940e+02, 0.000e+00,\n",
              "        6.000e+01, 0.000e+00],\n",
              "       [4.400e+01, 9.000e+00, 2.000e+00, 0.000e+00, 0.000e+00, 0.000e+00,\n",
              "        4.000e+01, 0.000e+00],\n",
              "       [1.900e+01, 9.000e+00, 2.000e+00, 0.000e+00, 0.000e+00, 0.000e+00,\n",
              "        4.000e+01, 0.000e+00],\n",
              "       [4.200e+01, 1.200e+01, 2.000e+00, 1.000e+00, 0.000e+00, 0.000e+00,\n",
              "        4.000e+01, 1.000e+00],\n",
              "       [3.800e+01, 1.000e+01, 2.000e+00, 1.000e+00, 0.000e+00, 0.000e+00,\n",
              "        5.000e+01, 0.000e+00],\n",
              "       [5.400e+01, 9.000e+00, 2.000e+00, 1.000e+00, 0.000e+00, 0.000e+00,\n",
              "        4.000e+01, 0.000e+00],\n",
              "       [5.200e+01, 8.000e+00, 2.000e+00, 1.000e+00, 5.940e+02, 0.000e+00,\n",
              "        4.000e+01, 0.000e+00],\n",
              "       [2.500e+01, 1.000e+01, 2.000e+00, 0.000e+00, 0.000e+00, 0.000e+00,\n",
              "        2.000e+01, 0.000e+00],\n",
              "       [2.400e+01, 1.300e+01, 2.000e+00, 1.000e+00, 0.000e+00, 0.000e+00,\n",
              "        4.000e+01, 0.000e+00],\n",
              "       [4.700e+01, 9.000e+00, 2.000e+00, 0.000e+00, 0.000e+00, 0.000e+00,\n",
              "        4.000e+01, 0.000e+00],\n",
              "       [5.300e+01, 3.000e+00, 2.000e+00, 0.000e+00, 0.000e+00, 0.000e+00,\n",
              "        3.000e+01, 0.000e+00],\n",
              "       [2.400e+01, 1.000e+01, 2.000e+00, 1.000e+00, 0.000e+00, 0.000e+00,\n",
              "        5.000e+01, 0.000e+00],\n",
              "       [3.600e+01, 9.000e+00, 2.000e+00, 1.000e+00, 0.000e+00, 0.000e+00,\n",
              "        4.000e+01, 0.000e+00],\n",
              "       [5.700e+01, 2.000e+00, 2.000e+00, 0.000e+00, 0.000e+00, 0.000e+00,\n",
              "        3.000e+01, 0.000e+00],\n",
              "       [3.400e+01, 9.000e+00, 2.000e+00, 0.000e+00, 0.000e+00, 0.000e+00,\n",
              "        4.000e+01, 0.000e+00],\n",
              "       [3.500e+01, 9.000e+00, 2.000e+00, 0.000e+00, 0.000e+00, 0.000e+00,\n",
              "        4.000e+01, 0.000e+00],\n",
              "       [3.300e+01, 1.100e+01, 2.000e+00, 0.000e+00, 0.000e+00, 0.000e+00,\n",
              "        4.000e+01, 1.000e+00],\n",
              "       [2.400e+01, 9.000e+00, 2.000e+00, 0.000e+00, 0.000e+00, 0.000e+00,\n",
              "        4.000e+01, 0.000e+00],\n",
              "       [4.800e+01, 9.000e+00, 2.000e+00, 0.000e+00, 0.000e+00, 0.000e+00,\n",
              "        3.700e+01, 0.000e+00],\n",
              "       [3.600e+01, 9.000e+00, 2.000e+00, 1.000e+00, 0.000e+00, 0.000e+00,\n",
              "        4.000e+01, 0.000e+00],\n",
              "       [3.000e+01, 9.000e+00, 2.000e+00, 1.000e+00, 0.000e+00, 0.000e+00,\n",
              "        4.500e+01, 0.000e+00],\n",
              "       [4.500e+01, 7.000e+00, 2.000e+00, 0.000e+00, 0.000e+00, 0.000e+00,\n",
              "        2.000e+01, 0.000e+00],\n",
              "       [6.500e+01, 5.000e+00, 2.000e+00, 0.000e+00, 0.000e+00, 0.000e+00,\n",
              "        2.400e+01, 0.000e+00],\n",
              "       [3.000e+01, 9.000e+00, 2.000e+00, 1.000e+00, 0.000e+00, 0.000e+00,\n",
              "        6.000e+01, 0.000e+00],\n",
              "       [4.700e+01, 1.000e+01, 2.000e+00, 0.000e+00, 0.000e+00, 0.000e+00,\n",
              "        4.000e+01, 0.000e+00],\n",
              "       [4.900e+01, 6.000e+00, 2.000e+00, 0.000e+00, 0.000e+00, 0.000e+00,\n",
              "        4.000e+01, 0.000e+00],\n",
              "       [3.000e+01, 1.300e+01, 2.000e+00, 0.000e+00, 0.000e+00, 0.000e+00,\n",
              "        4.000e+01, 1.000e+00],\n",
              "       [4.400e+01, 8.000e+00, 2.000e+00, 1.000e+00, 0.000e+00, 0.000e+00,\n",
              "        4.000e+01, 1.000e+00],\n",
              "       [4.200e+01, 9.000e+00, 2.000e+00, 1.000e+00, 0.000e+00, 0.000e+00,\n",
              "        4.000e+01, 1.000e+00],\n",
              "       [2.300e+01, 1.000e+01, 2.000e+00, 1.000e+00, 0.000e+00, 0.000e+00,\n",
              "        4.000e+01, 0.000e+00],\n",
              "       [2.400e+01, 1.000e+01, 2.000e+00, 0.000e+00, 0.000e+00, 0.000e+00,\n",
              "        4.500e+01, 0.000e+00],\n",
              "       [4.000e+01, 8.000e+00, 2.000e+00, 1.000e+00, 0.000e+00, 0.000e+00,\n",
              "        4.000e+01, 0.000e+00],\n",
              "       [4.500e+01, 1.000e+01, 2.000e+00, 1.000e+00, 0.000e+00, 0.000e+00,\n",
              "        4.000e+01, 0.000e+00],\n",
              "       [3.600e+01, 1.000e+01, 2.000e+00, 0.000e+00, 0.000e+00, 0.000e+00,\n",
              "        4.000e+01, 0.000e+00],\n",
              "       [3.100e+01, 9.000e+00, 2.000e+00, 0.000e+00, 0.000e+00, 0.000e+00,\n",
              "        4.000e+01, 0.000e+00],\n",
              "       [4.500e+01, 1.000e+01, 2.000e+00, 0.000e+00, 0.000e+00, 0.000e+00,\n",
              "        4.000e+01, 0.000e+00],\n",
              "       [3.600e+01, 1.000e+01, 2.000e+00, 0.000e+00, 0.000e+00, 0.000e+00,\n",
              "        3.600e+01, 0.000e+00],\n",
              "       [5.600e+01, 9.000e+00, 2.000e+00, 0.000e+00, 5.940e+02, 0.000e+00,\n",
              "        2.000e+01, 0.000e+00],\n",
              "       [3.200e+01, 1.000e+01, 2.000e+00, 0.000e+00, 0.000e+00, 0.000e+00,\n",
              "        4.000e+01, 0.000e+00],\n",
              "       [2.900e+01, 7.000e+00, 2.000e+00, 1.000e+00, 0.000e+00, 0.000e+00,\n",
              "        4.000e+01, 0.000e+00],\n",
              "       [3.700e+01, 9.000e+00, 2.000e+00, 1.000e+00, 0.000e+00, 0.000e+00,\n",
              "        4.000e+01, 0.000e+00],\n",
              "       [4.200e+01, 1.000e+01, 2.000e+00, 0.000e+00, 0.000e+00, 0.000e+00,\n",
              "        3.800e+01, 0.000e+00],\n",
              "       [2.200e+01, 1.000e+01, 2.000e+00, 1.000e+00, 0.000e+00, 0.000e+00,\n",
              "        2.000e+01, 0.000e+00],\n",
              "       [2.500e+01, 9.000e+00, 2.000e+00, 1.000e+00, 0.000e+00, 0.000e+00,\n",
              "        4.000e+01, 0.000e+00],\n",
              "       [2.400e+01, 9.000e+00, 2.000e+00, 1.000e+00, 0.000e+00, 1.721e+03,\n",
              "        3.000e+01, 0.000e+00],\n",
              "       [2.200e+01, 1.000e+01, 2.000e+00, 1.000e+00, 0.000e+00, 0.000e+00,\n",
              "        4.000e+01, 0.000e+00],\n",
              "       [5.500e+01, 3.000e+00, 2.000e+00, 1.000e+00, 0.000e+00, 0.000e+00,\n",
              "        2.500e+01, 0.000e+00],\n",
              "       [2.300e+01, 9.000e+00, 2.000e+00, 0.000e+00, 0.000e+00, 0.000e+00,\n",
              "        7.000e+00, 0.000e+00],\n",
              "       [5.400e+01, 9.000e+00, 2.000e+00, 1.000e+00, 0.000e+00, 0.000e+00,\n",
              "        4.000e+01, 0.000e+00],\n",
              "       [4.800e+01, 1.000e+01, 2.000e+00, 0.000e+00, 0.000e+00, 0.000e+00,\n",
              "        3.000e+01, 0.000e+00],\n",
              "       [2.400e+01, 1.300e+01, 2.000e+00, 1.000e+00, 0.000e+00, 0.000e+00,\n",
              "        1.500e+01, 0.000e+00],\n",
              "       [2.300e+01, 9.000e+00, 2.000e+00, 1.000e+00, 0.000e+00, 0.000e+00,\n",
              "        4.000e+01, 0.000e+00],\n",
              "       [3.800e+01, 1.000e+01, 2.000e+00, 0.000e+00, 0.000e+00, 0.000e+00,\n",
              "        4.000e+01, 0.000e+00],\n",
              "       [3.500e+01, 9.000e+00, 2.000e+00, 1.000e+00, 0.000e+00, 0.000e+00,\n",
              "        4.000e+01, 0.000e+00],\n",
              "       [5.400e+01, 1.000e+01, 2.000e+00, 0.000e+00, 0.000e+00, 0.000e+00,\n",
              "        3.500e+01, 0.000e+00],\n",
              "       [5.100e+01, 4.000e+00, 2.000e+00, 0.000e+00, 0.000e+00, 0.000e+00,\n",
              "        4.000e+01, 0.000e+00],\n",
              "       [7.800e+01, 9.000e+00, 2.000e+00, 0.000e+00, 2.964e+03, 0.000e+00,\n",
              "        4.000e+01, 0.000e+00],\n",
              "       [2.300e+01, 9.000e+00, 2.000e+00, 0.000e+00, 0.000e+00, 0.000e+00,\n",
              "        4.000e+01, 0.000e+00],\n",
              "       [4.100e+01, 9.000e+00, 2.000e+00, 0.000e+00, 0.000e+00, 0.000e+00,\n",
              "        3.500e+01, 0.000e+00]])"
            ]
          },
          "metadata": {},
          "execution_count": 315
        }
      ]
    },
    {
      "cell_type": "code",
      "source": [
        "race_3=data[race==3]\n",
        "race_3"
      ],
      "metadata": {
        "colab": {
          "base_uri": "https://localhost:8080/"
        },
        "id": "I82lkfk8nasI",
        "outputId": "c165a7f8-e3ae-42d3-d49e-60c1b2f8c385"
      },
      "execution_count": 316,
      "outputs": [
        {
          "output_type": "execute_result",
          "data": {
            "text/plain": [
              "array([[2.500e+01, 1.000e+01, 3.000e+00, 0.000e+00, 0.000e+00, 0.000e+00,\n",
              "        4.000e+01, 0.000e+00],\n",
              "       [3.300e+01, 1.000e+01, 3.000e+00, 0.000e+00, 0.000e+00, 0.000e+00,\n",
              "        4.000e+01, 0.000e+00],\n",
              "       [6.500e+01, 7.000e+00, 3.000e+00, 1.000e+00, 0.000e+00, 0.000e+00,\n",
              "        4.000e+01, 0.000e+00],\n",
              "       [2.800e+01, 4.000e+00, 3.000e+00, 1.000e+00, 0.000e+00, 2.179e+03,\n",
              "        4.000e+01, 0.000e+00],\n",
              "       [4.400e+01, 7.000e+00, 3.000e+00, 0.000e+00, 0.000e+00, 0.000e+00,\n",
              "        4.600e+01, 0.000e+00],\n",
              "       [4.000e+01, 1.300e+01, 3.000e+00, 0.000e+00, 0.000e+00, 0.000e+00,\n",
              "        5.500e+01, 1.000e+00]])"
            ]
          },
          "metadata": {},
          "execution_count": 316
        }
      ]
    },
    {
      "cell_type": "code",
      "source": [
        "race_4=data[race==4]\n",
        "race_4"
      ],
      "metadata": {
        "colab": {
          "base_uri": "https://localhost:8080/"
        },
        "id": "IJtnFwJHnfwG",
        "outputId": "9f914159-5ec3-4934-948c-6afd67e9c357"
      },
      "execution_count": 317,
      "outputs": [
        {
          "output_type": "execute_result",
          "data": {
            "text/plain": [
              "array([[39., 13.,  4., ...,  0., 40.,  0.],\n",
              "       [50., 13.,  4., ...,  0., 13.,  0.],\n",
              "       [38.,  9.,  4., ...,  0., 40.,  0.],\n",
              "       ...,\n",
              "       [40., 10.,  4., ...,  0., 40.,  0.],\n",
              "       [39., 13.,  4., ...,  0., 50.,  1.],\n",
              "       [50.,  9.,  4., ...,  0., 40.,  0.]])"
            ]
          },
          "metadata": {},
          "execution_count": 317
        }
      ]
    },
    {
      "cell_type": "code",
      "source": [
        "len_0=len(race_zero)\n",
        "len_0"
      ],
      "metadata": {
        "colab": {
          "base_uri": "https://localhost:8080/"
        },
        "id": "ubRX7pzMnkdR",
        "outputId": "fdc570c5-d43c-42c5-8e9b-495461f8fc05"
      },
      "execution_count": 320,
      "outputs": [
        {
          "output_type": "execute_result",
          "data": {
            "text/plain": [
              "10"
            ]
          },
          "metadata": {},
          "execution_count": 320
        }
      ]
    },
    {
      "cell_type": "code",
      "source": [
        "len_1= len(race_1)\n",
        "len_1"
      ],
      "metadata": {
        "colab": {
          "base_uri": "https://localhost:8080/"
        },
        "id": "h680JlC6n0HW",
        "outputId": "3969981f-e835-459d-a032-656fd2b23615"
      },
      "execution_count": 321,
      "outputs": [
        {
          "output_type": "execute_result",
          "data": {
            "text/plain": [
              "27"
            ]
          },
          "metadata": {},
          "execution_count": 321
        }
      ]
    },
    {
      "cell_type": "code",
      "source": [
        "len_2=len(race_2)\n",
        "len_2"
      ],
      "metadata": {
        "colab": {
          "base_uri": "https://localhost:8080/"
        },
        "id": "VIcRtZUdn0MI",
        "outputId": "0fc29bf8-f22b-4ce6-d0da-a028f079a818"
      },
      "execution_count": 322,
      "outputs": [
        {
          "output_type": "execute_result",
          "data": {
            "text/plain": [
              "110"
            ]
          },
          "metadata": {},
          "execution_count": 322
        }
      ]
    },
    {
      "cell_type": "code",
      "source": [
        "len_3= len(race_3)\n",
        "len_3"
      ],
      "metadata": {
        "colab": {
          "base_uri": "https://localhost:8080/"
        },
        "id": "hBGCOcDSn0Qm",
        "outputId": "16409d72-3e3c-4d89-a5a2-e4bc52d0e733"
      },
      "execution_count": 323,
      "outputs": [
        {
          "output_type": "execute_result",
          "data": {
            "text/plain": [
              "6"
            ]
          },
          "metadata": {},
          "execution_count": 323
        }
      ]
    },
    {
      "cell_type": "code",
      "source": [
        "len_4=len(race_4)\n",
        "len_4"
      ],
      "metadata": {
        "colab": {
          "base_uri": "https://localhost:8080/"
        },
        "id": "WHHrbCRUoFLP",
        "outputId": "de3ce098-df64-4871-9db5-ebb8e7352f09"
      },
      "execution_count": 324,
      "outputs": [
        {
          "output_type": "execute_result",
          "data": {
            "text/plain": [
              "848"
            ]
          },
          "metadata": {},
          "execution_count": 324
        }
      ]
    },
    {
      "cell_type": "code",
      "source": [
        ""
      ],
      "metadata": {
        "id": "fGmtcGFQoRFH"
      },
      "execution_count": null,
      "outputs": []
    },
    {
      "cell_type": "markdown",
      "source": [
        "## race_3 has minimum no of citizens"
      ],
      "metadata": {
        "id": "eUiBkI6BoTxm"
      }
    },
    {
      "cell_type": "code",
      "source": [
        "minority_race = race_3\n"
      ],
      "metadata": {
        "id": "ayHmAgg0oepX"
      },
      "execution_count": 326,
      "outputs": []
    },
    {
      "cell_type": "code",
      "source": [
        "senior_citizens =data[data[:,0]>60]\n",
        "senior_citizens"
      ],
      "metadata": {
        "colab": {
          "base_uri": "https://localhost:8080/"
        },
        "id": "ra-2BEG2o8Oh",
        "outputId": "b12826bd-ecba-4e48-f734-b130d520c0fe"
      },
      "execution_count": 327,
      "outputs": [
        {
          "output_type": "execute_result",
          "data": {
            "text/plain": [
              "array([[7.9000e+01, 1.0000e+01, 4.0000e+00, 1.0000e+00, 0.0000e+00,\n",
              "        0.0000e+00, 2.0000e+01, 0.0000e+00],\n",
              "       [6.7000e+01, 6.0000e+00, 4.0000e+00, 1.0000e+00, 0.0000e+00,\n",
              "        0.0000e+00, 2.0000e+00, 0.0000e+00],\n",
              "       [7.6000e+01, 1.4000e+01, 4.0000e+00, 1.0000e+00, 0.0000e+00,\n",
              "        0.0000e+00, 4.0000e+01, 1.0000e+00],\n",
              "       [6.1000e+01, 9.0000e+00, 4.0000e+00, 1.0000e+00, 0.0000e+00,\n",
              "        0.0000e+00, 4.0000e+01, 0.0000e+00],\n",
              "       [7.0000e+01, 1.0000e+01, 4.0000e+00, 1.0000e+00, 0.0000e+00,\n",
              "        0.0000e+00, 4.0000e+01, 0.0000e+00],\n",
              "       [6.4000e+01, 7.0000e+00, 4.0000e+00, 1.0000e+00, 0.0000e+00,\n",
              "        2.1790e+03, 4.0000e+01, 0.0000e+00],\n",
              "       [7.1000e+01, 1.0000e+01, 2.0000e+00, 1.0000e+00, 0.0000e+00,\n",
              "        1.8160e+03, 2.0000e+00, 0.0000e+00],\n",
              "       [6.8000e+01, 2.0000e+00, 4.0000e+00, 0.0000e+00, 0.0000e+00,\n",
              "        0.0000e+00, 2.0000e+01, 0.0000e+00],\n",
              "       [6.6000e+01, 1.1000e+01, 4.0000e+00, 0.0000e+00, 0.0000e+00,\n",
              "        0.0000e+00, 2.0000e+01, 0.0000e+00],\n",
              "       [6.4000e+01, 2.0000e+00, 4.0000e+00, 1.0000e+00, 0.0000e+00,\n",
              "        0.0000e+00, 4.0000e+01, 0.0000e+00],\n",
              "       [9.0000e+01, 9.0000e+00, 2.0000e+00, 1.0000e+00, 0.0000e+00,\n",
              "        2.2060e+03, 4.0000e+01, 0.0000e+00],\n",
              "       [6.6000e+01, 9.0000e+00, 4.0000e+00, 1.0000e+00, 1.4090e+03,\n",
              "        0.0000e+00, 5.0000e+01, 0.0000e+00],\n",
              "       [7.5000e+01, 1.1000e+01, 4.0000e+00, 0.0000e+00, 0.0000e+00,\n",
              "        0.0000e+00, 2.0000e+01, 0.0000e+00],\n",
              "       [6.5000e+01, 9.0000e+00, 4.0000e+00, 0.0000e+00, 0.0000e+00,\n",
              "        0.0000e+00, 4.0000e+01, 0.0000e+00],\n",
              "       [6.4000e+01, 9.0000e+00, 4.0000e+00, 1.0000e+00, 0.0000e+00,\n",
              "        0.0000e+00, 4.0000e+01, 1.0000e+00],\n",
              "       [6.1000e+01, 9.0000e+00, 4.0000e+00, 1.0000e+00, 0.0000e+00,\n",
              "        0.0000e+00, 4.0000e+01, 1.0000e+00],\n",
              "       [6.5000e+01, 9.0000e+00, 4.0000e+00, 1.0000e+00, 0.0000e+00,\n",
              "        0.0000e+00, 1.6000e+01, 0.0000e+00],\n",
              "       [7.7000e+01, 1.0000e+01, 4.0000e+00, 1.0000e+00, 0.0000e+00,\n",
              "        0.0000e+00, 4.0000e+01, 0.0000e+00],\n",
              "       [6.2000e+01, 9.0000e+00, 4.0000e+00, 0.0000e+00, 0.0000e+00,\n",
              "        0.0000e+00, 2.4000e+01, 0.0000e+00],\n",
              "       [7.6000e+01, 1.4000e+01, 4.0000e+00, 1.0000e+00, 0.0000e+00,\n",
              "        0.0000e+00, 1.0000e+01, 0.0000e+00],\n",
              "       [6.3000e+01, 9.0000e+00, 4.0000e+00, 1.0000e+00, 0.0000e+00,\n",
              "        0.0000e+00, 4.5000e+01, 0.0000e+00],\n",
              "       [6.6000e+01, 9.0000e+00, 4.0000e+00, 1.0000e+00, 2.0500e+03,\n",
              "        0.0000e+00, 5.5000e+01, 0.0000e+00],\n",
              "       [6.7000e+01, 7.0000e+00, 4.0000e+00, 1.0000e+00, 0.0000e+00,\n",
              "        0.0000e+00, 8.0000e+00, 0.0000e+00],\n",
              "       [6.5000e+01, 7.0000e+00, 3.0000e+00, 1.0000e+00, 0.0000e+00,\n",
              "        0.0000e+00, 4.0000e+01, 0.0000e+00],\n",
              "       [6.2000e+01, 1.4000e+01, 4.0000e+00, 1.0000e+00, 0.0000e+00,\n",
              "        0.0000e+00, 4.0000e+01, 1.0000e+00],\n",
              "       [6.3000e+01, 9.0000e+00, 4.0000e+00, 1.0000e+00, 0.0000e+00,\n",
              "        0.0000e+00, 4.0000e+01, 1.0000e+00],\n",
              "       [8.0000e+01, 9.0000e+00, 4.0000e+00, 1.0000e+00, 0.0000e+00,\n",
              "        0.0000e+00, 2.4000e+01, 0.0000e+00],\n",
              "       [6.7000e+01, 1.1000e+01, 4.0000e+00, 0.0000e+00, 0.0000e+00,\n",
              "        0.0000e+00, 2.4000e+01, 0.0000e+00],\n",
              "       [6.3000e+01, 2.0000e+00, 4.0000e+00, 1.0000e+00, 0.0000e+00,\n",
              "        0.0000e+00, 3.5000e+01, 0.0000e+00],\n",
              "       [7.2000e+01, 9.0000e+00, 4.0000e+00, 1.0000e+00, 0.0000e+00,\n",
              "        0.0000e+00, 2.0000e+01, 0.0000e+00],\n",
              "       [6.2000e+01, 9.0000e+00, 4.0000e+00, 1.0000e+00, 0.0000e+00,\n",
              "        0.0000e+00, 4.0000e+01, 0.0000e+00],\n",
              "       [7.4000e+01, 1.0000e+01, 4.0000e+00, 0.0000e+00, 0.0000e+00,\n",
              "        0.0000e+00, 9.0000e+00, 0.0000e+00],\n",
              "       [6.7000e+01, 1.5000e+01, 4.0000e+00, 1.0000e+00, 2.0051e+04,\n",
              "        0.0000e+00, 4.8000e+01, 1.0000e+00],\n",
              "       [7.2000e+01, 7.0000e+00, 4.0000e+00, 0.0000e+00, 0.0000e+00,\n",
              "        0.0000e+00, 4.0000e+01, 0.0000e+00],\n",
              "       [6.9000e+01, 7.0000e+00, 4.0000e+00, 0.0000e+00, 0.0000e+00,\n",
              "        0.0000e+00, 4.0000e+01, 0.0000e+00],\n",
              "       [6.5000e+01, 1.0000e+01, 4.0000e+00, 1.0000e+00, 0.0000e+00,\n",
              "        0.0000e+00, 3.0000e+01, 1.0000e+00],\n",
              "       [6.5000e+01, 5.0000e+00, 2.0000e+00, 0.0000e+00, 0.0000e+00,\n",
              "        0.0000e+00, 2.4000e+01, 0.0000e+00],\n",
              "       [7.1000e+01, 9.0000e+00, 4.0000e+00, 1.0000e+00, 0.0000e+00,\n",
              "        0.0000e+00, 1.5000e+01, 0.0000e+00],\n",
              "       [7.0000e+01, 5.0000e+00, 4.0000e+00, 0.0000e+00, 1.1110e+03,\n",
              "        0.0000e+00, 1.5000e+01, 0.0000e+00],\n",
              "       [6.6000e+01, 4.0000e+00, 4.0000e+00, 1.0000e+00, 0.0000e+00,\n",
              "        0.0000e+00, 4.0000e+00, 0.0000e+00],\n",
              "       [6.5000e+01, 7.0000e+00, 4.0000e+00, 1.0000e+00, 9.3860e+03,\n",
              "        0.0000e+00, 5.9000e+01, 1.0000e+00],\n",
              "       [6.1000e+01, 9.0000e+00, 4.0000e+00, 1.0000e+00, 0.0000e+00,\n",
              "        2.3520e+03, 5.0000e+01, 0.0000e+00],\n",
              "       [6.1000e+01, 9.0000e+00, 4.0000e+00, 1.0000e+00, 0.0000e+00,\n",
              "        0.0000e+00, 4.0000e+01, 0.0000e+00],\n",
              "       [6.8000e+01, 7.0000e+00, 4.0000e+00, 1.0000e+00, 0.0000e+00,\n",
              "        0.0000e+00, 2.0000e+01, 0.0000e+00],\n",
              "       [6.4000e+01, 1.3000e+01, 4.0000e+00, 1.0000e+00, 0.0000e+00,\n",
              "        0.0000e+00, 4.0000e+01, 1.0000e+00],\n",
              "       [6.4000e+01, 9.0000e+00, 4.0000e+00, 1.0000e+00, 0.0000e+00,\n",
              "        0.0000e+00, 4.5000e+01, 0.0000e+00],\n",
              "       [6.2000e+01, 9.0000e+00, 4.0000e+00, 0.0000e+00, 0.0000e+00,\n",
              "        0.0000e+00, 4.0000e+01, 0.0000e+00],\n",
              "       [7.3000e+01, 9.0000e+00, 4.0000e+00, 1.0000e+00, 0.0000e+00,\n",
              "        0.0000e+00, 4.0000e+01, 0.0000e+00],\n",
              "       [7.2000e+01, 7.0000e+00, 4.0000e+00, 0.0000e+00, 0.0000e+00,\n",
              "        0.0000e+00, 2.4000e+01, 0.0000e+00],\n",
              "       [6.3000e+01, 9.0000e+00, 4.0000e+00, 1.0000e+00, 0.0000e+00,\n",
              "        0.0000e+00, 6.0000e+00, 0.0000e+00],\n",
              "       [6.2000e+01, 1.3000e+01, 4.0000e+00, 0.0000e+00, 0.0000e+00,\n",
              "        0.0000e+00, 4.8000e+01, 0.0000e+00],\n",
              "       [6.1000e+01, 1.4000e+01, 4.0000e+00, 0.0000e+00, 0.0000e+00,\n",
              "        0.0000e+00, 4.0000e+01, 1.0000e+00],\n",
              "       [7.1000e+01, 1.4000e+01, 4.0000e+00, 1.0000e+00, 1.0605e+04,\n",
              "        0.0000e+00, 4.0000e+01, 1.0000e+00],\n",
              "       [6.3000e+01, 1.0000e+01, 4.0000e+00, 1.0000e+00, 0.0000e+00,\n",
              "        0.0000e+00, 1.5000e+01, 0.0000e+00],\n",
              "       [6.3000e+01, 4.0000e+00, 4.0000e+00, 1.0000e+00, 0.0000e+00,\n",
              "        0.0000e+00, 5.5000e+01, 0.0000e+00],\n",
              "       [6.7000e+01, 9.0000e+00, 1.0000e+00, 1.0000e+00, 0.0000e+00,\n",
              "        0.0000e+00, 4.0000e+01, 1.0000e+00],\n",
              "       [8.1000e+01, 9.0000e+00, 4.0000e+00, 1.0000e+00, 0.0000e+00,\n",
              "        0.0000e+00, 3.0000e+01, 0.0000e+00],\n",
              "       [6.4000e+01, 9.0000e+00, 4.0000e+00, 1.0000e+00, 0.0000e+00,\n",
              "        0.0000e+00, 5.0000e+00, 0.0000e+00],\n",
              "       [6.7000e+01, 1.3000e+01, 4.0000e+00, 1.0000e+00, 0.0000e+00,\n",
              "        2.3920e+03, 4.0000e+01, 1.0000e+00],\n",
              "       [7.8000e+01, 9.0000e+00, 2.0000e+00, 0.0000e+00, 2.9640e+03,\n",
              "        0.0000e+00, 4.0000e+01, 0.0000e+00],\n",
              "       [6.3000e+01, 1.1000e+01, 4.0000e+00, 0.0000e+00, 0.0000e+00,\n",
              "        0.0000e+00, 2.0000e+01, 0.0000e+00]])"
            ]
          },
          "metadata": {},
          "execution_count": 327
        }
      ]
    },
    {
      "cell_type": "code",
      "source": [
        "working_hours_sum = senior_citizens[:,6]\n",
        "working_hours_sum"
      ],
      "metadata": {
        "colab": {
          "base_uri": "https://localhost:8080/"
        },
        "id": "jFEpljpYpa5T",
        "outputId": "d0e352c8-f404-49cb-da3a-cd913e5e8621"
      },
      "execution_count": 328,
      "outputs": [
        {
          "output_type": "execute_result",
          "data": {
            "text/plain": [
              "array([20.,  2., 40., 40., 40., 40.,  2., 20., 20., 40., 40., 50., 20.,\n",
              "       40., 40., 40., 16., 40., 24., 10., 45., 55.,  8., 40., 40., 40.,\n",
              "       24., 24., 35., 20., 40.,  9., 48., 40., 40., 30., 24., 15., 15.,\n",
              "        4., 59., 50., 40., 20., 40., 45., 40., 40., 24.,  6., 48., 40.,\n",
              "       40., 15., 55., 40., 30.,  5., 40., 40., 20.])"
            ]
          },
          "metadata": {},
          "execution_count": 328
        }
      ]
    },
    {
      "cell_type": "code",
      "source": [
        "len(working_hours_sum)"
      ],
      "metadata": {
        "colab": {
          "base_uri": "https://localhost:8080/"
        },
        "id": "-4_WnRPGpkLu",
        "outputId": "86f772b9-91ab-4ca9-a013-6f3815d88064"
      },
      "execution_count": 329,
      "outputs": [
        {
          "output_type": "execute_result",
          "data": {
            "text/plain": [
              "61"
            ]
          },
          "metadata": {},
          "execution_count": 329
        }
      ]
    },
    {
      "cell_type": "code",
      "source": [
        "working_hours_sum.mean()"
      ],
      "metadata": {
        "colab": {
          "base_uri": "https://localhost:8080/"
        },
        "id": "yXpaBM4bp9sa",
        "outputId": "2605fe40-39f3-4ae7-b624-5d9005ff1070"
      },
      "execution_count": 330,
      "outputs": [
        {
          "output_type": "execute_result",
          "data": {
            "text/plain": [
              "31.42622950819672"
            ]
          },
          "metadata": {},
          "execution_count": 330
        }
      ]
    },
    {
      "cell_type": "markdown",
      "source": [
        "## Working agv is 31 hours, so the govt policy is not followed"
      ],
      "metadata": {
        "id": "GRyUpFK_qHU2"
      }
    },
    {
      "cell_type": "code",
      "source": [
        "high = data[data[:,1]>10]\n",
        "high"
      ],
      "metadata": {
        "colab": {
          "base_uri": "https://localhost:8080/"
        },
        "id": "sN1K-mvjqRuR",
        "outputId": "b4c05ac7-27a9-43f8-dc9c-f9baf999c76a"
      },
      "execution_count": 333,
      "outputs": [
        {
          "output_type": "execute_result",
          "data": {
            "text/plain": [
              "array([[39., 13.,  4., ...,  0., 40.,  0.],\n",
              "       [50., 13.,  4., ...,  0., 13.,  0.],\n",
              "       [28., 13.,  2., ...,  0., 40.,  0.],\n",
              "       ...,\n",
              "       [45., 14.,  4., ...,  0., 45.,  0.],\n",
              "       [48., 13.,  4., ...,  0., 58.,  1.],\n",
              "       [39., 13.,  4., ...,  0., 50.,  1.]])"
            ]
          },
          "metadata": {},
          "execution_count": 333
        }
      ]
    },
    {
      "cell_type": "code",
      "source": [
        "low = data[data[:,1]<=10]\n",
        "low"
      ],
      "metadata": {
        "colab": {
          "base_uri": "https://localhost:8080/"
        },
        "id": "5bCQRBzPq-3u",
        "outputId": "9deefd7b-6ebc-464a-b249-2d2cba0ac931"
      },
      "execution_count": 334,
      "outputs": [
        {
          "output_type": "execute_result",
          "data": {
            "text/plain": [
              "array([[38.,  9.,  4., ...,  0., 40.,  0.],\n",
              "       [53.,  7.,  2., ...,  0., 40.,  0.],\n",
              "       [49.,  5.,  2., ...,  0., 16.,  0.],\n",
              "       ...,\n",
              "       [56.,  9.,  4., ...,  0., 55.,  1.],\n",
              "       [40., 10.,  4., ...,  0., 40.,  0.],\n",
              "       [50.,  9.,  4., ...,  0., 40.,  0.]])"
            ]
          },
          "metadata": {},
          "execution_count": 334
        }
      ]
    },
    {
      "cell_type": "code",
      "source": [
        "avg_pay_high = sum(high[:,7])/len(high)\n",
        "avg_pay_high"
      ],
      "metadata": {
        "colab": {
          "base_uri": "https://localhost:8080/"
        },
        "id": "jHtqZx-IrWhP",
        "outputId": "8a7c8c76-c479-4d0e-a7d3-7bb6906cfee6"
      },
      "execution_count": 336,
      "outputs": [
        {
          "output_type": "execute_result",
          "data": {
            "text/plain": [
              "0.42813455657492355"
            ]
          },
          "metadata": {},
          "execution_count": 336
        }
      ]
    },
    {
      "cell_type": "code",
      "source": [
        "avg_pay_low = low[:,7].mean()\n",
        "avg_pay_low\n"
      ],
      "metadata": {
        "colab": {
          "base_uri": "https://localhost:8080/"
        },
        "id": "H0YVHa6UsL-9",
        "outputId": "0e3cf586-11d0-497a-dd41-60d7d3db94a1"
      },
      "execution_count": 337,
      "outputs": [
        {
          "output_type": "execute_result",
          "data": {
            "text/plain": [
              "0.13649851632047477"
            ]
          },
          "metadata": {},
          "execution_count": 337
        }
      ]
    },
    {
      "cell_type": "code",
      "source": [
        ""
      ],
      "metadata": {
        "id": "pfcp3gKLrrE_"
      },
      "execution_count": null,
      "outputs": []
    }
  ]
}